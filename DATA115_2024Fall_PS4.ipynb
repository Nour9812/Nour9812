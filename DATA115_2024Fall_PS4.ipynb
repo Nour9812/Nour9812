{
  "nbformat": 4,
  "nbformat_minor": 0,
  "metadata": {
    "colab": {
      "provenance": [],
      "authorship_tag": "ABX9TyOaQM2ynOKw2bJbe3rdG4B4",
      "include_colab_link": true
    },
    "kernelspec": {
      "name": "python3",
      "display_name": "Python 3"
    },
    "language_info": {
      "name": "python"
    }
  },
  "cells": [
    {
      "cell_type": "markdown",
      "metadata": {
        "id": "view-in-github",
        "colab_type": "text"
      },
      "source": [
        "<a href=\"https://colab.research.google.com/github/Nour9812/Nour9812/blob/main/DATA115_2024Fall_PS4.ipynb\" target=\"_parent\"><img src=\"https://colab.research.google.com/assets/colab-badge.svg\" alt=\"Open In Colab\"/></a>"
      ]
    },
    {
      "cell_type": "code",
      "execution_count": null,
      "metadata": {
        "id": "fSAfEUpjQLRt"
      },
      "outputs": [],
      "source": [
        "# problem 2 (a)\n",
        "\n",
        "import pandas as pd\n",
        "import seaborn as sns\n",
        "import matplotlib.pyplot as plt\n",
        "\n",
        "# Load the data\n",
        "iris_df = pd.read_csv(\"iris_data.csv\")  # Update the path if needed\n",
        "\n",
        "# Create scatterplot\n",
        "plt.figure(figsize=(8, 6))\n",
        "sns.scatterplot(data=iris_df, x='petal_length', y='petal_width', hue='type')\n",
        "plt.title('Petal Width vs. Petal Length by Subspecies')\n",
        "plt.xlabel('Petal Length (cm)')\n",
        "plt.ylabel('Petal Width (cm)')\n",
        "plt.grid(True)\n",
        "plt.show()"
      ]
    },
    {
      "cell_type": "code",
      "source": [
        "#problem 2 (b)\n",
        "from sklearn.decomposition import PCA\n",
        "from sklearn.preprocessing import StandardScaler\n",
        "\n",
        "# Select the numerical features\n",
        "features = ['sepal_length', 'sepal_width', 'petal_length', 'petal_width']\n",
        "X = iris_df[features]\n",
        "\n",
        "# Standardize the data\n",
        "scaler = StandardScaler()\n",
        "X_scaled = scaler.fit_transform(X)\n",
        "\n",
        "# Perform PCA\n",
        "pca = PCA(n_components=2)\n",
        "principal_components = pca.fit_transform(X_scaled)\n",
        "\n",
        "# Add PCA results to DataFrame\n",
        "iris_df['PC1'] = principal_components[:, 0]\n",
        "iris_df['PC2'] = principal_components[:, 1]\n",
        "\n",
        "# Create PCA scatterplot\n",
        "plt.figure(figsize=(8, 6))\n",
        "sns.scatterplot(data=iris_df, x='PC1', y='PC2', hue='type')\n",
        "plt.title('PCA: First Two Principal Components')\n",
        "plt.xlabel('Principal Component 1')\n",
        "plt.ylabel('Principal Component 2')\n",
        "plt.grid(True)\n",
        "plt.show()"
      ],
      "metadata": {
        "id": "LG2o0lkMQYmW"
      },
      "execution_count": null,
      "outputs": []
    },
    {
      "cell_type": "code",
      "source": [
        "# problem 2 (c)\n",
        "# Display explained variance\n",
        "explained_variance = pca.explained_variance_ratio_\n",
        "print(\"Proportion of Variance Explained:\")\n",
        "print(f\"PC1: {explained_variance[0]:.4f}\")\n",
        "print(f\"PC2: {explained_variance[1]:.4f}\")\n",
        "print(f\"Total: {explained_variance[0] + explained_variance[1]:.4f}\")"
      ],
      "metadata": {
        "id": "ir2DEksuQeUx"
      },
      "execution_count": null,
      "outputs": []
    },
    {
      "cell_type": "code",
      "source": [
        "# problem 2 (d)\n",
        "# Loadings matrix\n",
        "loadings = pd.DataFrame(\n",
        "    pca.components_.T,\n",
        "    columns=['PC1', 'PC2'],\n",
        "    index=features\n",
        ")\n",
        "\n",
        "print(\"Loadings for original features:\")\n",
        "print(loadings)\n"
      ],
      "metadata": {
        "id": "CCRc2SzxQkPV"
      },
      "execution_count": null,
      "outputs": []
    }
  ]
}